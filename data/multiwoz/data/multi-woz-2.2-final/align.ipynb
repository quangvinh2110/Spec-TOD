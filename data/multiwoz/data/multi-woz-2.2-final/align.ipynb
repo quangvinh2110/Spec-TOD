{
 "cells": [
  {
   "cell_type": "code",
   "execution_count": 1,
   "id": "f9fbf50f-f3c0-4399-a5f4-1dd52ebd9150",
   "metadata": {},
   "outputs": [],
   "source": [
    "import json"
   ]
  },
  {
   "cell_type": "code",
   "execution_count": 2,
   "id": "97b4ca8a-7a7b-4ad7-94b5-354d310d1612",
   "metadata": {},
   "outputs": [],
   "source": [
    "split = \"train\""
   ]
  },
  {
   "cell_type": "code",
   "execution_count": 3,
   "id": "8c4984a1-88ad-4c86-862e-406d12b037ce",
   "metadata": {},
   "outputs": [],
   "source": [
    "with open(f\"{split}_raw_dials-2.1.json\",\"r\") as f:\n",
    "    data_21 = json.load(f)"
   ]
  },
  {
   "cell_type": "code",
   "execution_count": 4,
   "id": "881c2b8a-b611-4abc-8a8a-b630619bd7c5",
   "metadata": {},
   "outputs": [],
   "source": [
    "with open(f\"{split}_raw_dials_ori.json\",\"r\") as f:\n",
    "    data_22 = json.load(f)"
   ]
  },
  {
   "cell_type": "code",
   "execution_count": 5,
   "id": "7248f132-295a-498a-9d32-d1d7f9283064",
   "metadata": {},
   "outputs": [
    {
     "ename": "KeyError",
     "evalue": "'sng0073'",
     "output_type": "error",
     "traceback": [
      "\u001b[0;31m---------------------------------------------------------------------------\u001b[0m",
      "\u001b[0;31mKeyError\u001b[0m                                  Traceback (most recent call last)",
      "Cell \u001b[0;32mIn[5], line 1\u001b[0m\n\u001b[0;32m----> 1\u001b[0m \u001b[43mdata_21\u001b[49m\u001b[43m[\u001b[49m\u001b[38;5;124;43m'\u001b[39;49m\u001b[38;5;124;43msng0073\u001b[39;49m\u001b[38;5;124;43m'\u001b[39;49m\u001b[43m]\u001b[49m[\u001b[38;5;241m0\u001b[39m]\n",
      "\u001b[0;31mKeyError\u001b[0m: 'sng0073'"
     ]
    }
   ],
   "source": [
    "data_21['sng0073'][0]"
   ]
  },
  {
   "cell_type": "code",
   "execution_count": 6,
   "id": "0de9ad0f-a046-48e6-bfd6-429cba2e3311",
   "metadata": {},
   "outputs": [],
   "source": [
    "from tqdm import tqdm"
   ]
  },
  {
   "cell_type": "code",
   "execution_count": 7,
   "id": "aae99b9c-424c-43c4-960a-e1eb8aea07f9",
   "metadata": {},
   "outputs": [
    {
     "name": "stderr",
     "output_type": "stream",
     "text": [
      "100%|███████████████████████████████████████████████████████████████████████████████| 8433/8433 [00:00<00:00, 80899.71it/s]"
     ]
    },
    {
     "name": "stdout",
     "output_type": "stream",
     "text": [
      "pmul4396\n",
      "sng01868\n",
      "sng0013\n",
      "pmul0345\n",
      "sng01460\n",
      "pmul1218\n",
      "pmul0989\n",
      "sng01862\n",
      "31298\n"
     ]
    },
    {
     "name": "stderr",
     "output_type": "stream",
     "text": [
      "\n"
     ]
    }
   ],
   "source": [
    "cnt  = 0\n",
    "for key in tqdm(data_21.keys()):\n",
    "    # print(data_24[key])\n",
    "    turns_21 = data_21[key]\n",
    "    if key not in data_22:\n",
    "        print(key)\n",
    "        continue\n",
    "    turns_22 = data_22[key]\n",
    "    for idx, item in enumerate(turns_21):\n",
    "        if turns_22[idx][\"resp\"] != turns_21[idx][\"resp\"]:\n",
    "            # print(turns_22[idx][\"resp\"])\n",
    "            # print(turns_21[idx][\"resp\"])\n",
    "            data_22[key][idx][\"resp\"] = turns_21[idx][\"resp\"]\n",
    "            cnt += 1\n",
    "print(cnt)"
   ]
  },
  {
   "cell_type": "code",
   "execution_count": 8,
   "id": "54d4b337-0966-4c32-b717-c6ddfe3bed83",
   "metadata": {},
   "outputs": [],
   "source": [
    "with open(f\"{split}_raw_dials.json\",\"w\") as f:\n",
    "    json.dump(data_22,f)"
   ]
  },
  {
   "cell_type": "code",
   "execution_count": 28,
   "id": "55eaa56a-d0ec-4692-aefb-ab54189d197c",
   "metadata": {},
   "outputs": [
    {
     "data": {
      "text/plain": [
       "'[res]'"
      ]
     },
     "execution_count": 28,
     "metadata": {},
     "output_type": "execute_result"
    }
   ],
   "source": [
    "a = \"[hote] [res]\"\n",
    "a.split(\" \")[-1]"
   ]
  }
 ],
 "metadata": {
  "kernelspec": {
   "display_name": "Python 3 (ipykernel)",
   "language": "python",
   "name": "python3"
  },
  "language_info": {
   "codemirror_mode": {
    "name": "ipython",
    "version": 3
   },
   "file_extension": ".py",
   "mimetype": "text/x-python",
   "name": "python",
   "nbconvert_exporter": "python",
   "pygments_lexer": "ipython3",
   "version": "3.10.14"
  }
 },
 "nbformat": 4,
 "nbformat_minor": 5
}
