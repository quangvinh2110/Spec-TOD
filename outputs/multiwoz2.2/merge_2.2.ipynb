{
 "cells": [
  {
   "cell_type": "code",
   "execution_count": 13,
   "id": "ed1181b3-5303-44f0-9f4e-c4fc560a28ae",
   "metadata": {},
   "outputs": [],
   "source": [
    "import json"
   ]
  },
  {
   "cell_type": "code",
   "execution_count": null,
   "id": "1514d288-3f72-427a-8dfa-40d6b577c012",
   "metadata": {},
   "outputs": [],
   "source": []
  },
  {
   "cell_type": "code",
   "execution_count": 5,
   "id": "8d62911c-db37-4929-ad49-a704f29e4ff7",
   "metadata": {},
   "outputs": [],
   "source": [
    "import json\n",
    "\n",
    "PATH = \"test1000-multiFalse-refFalse-prevTrue-json-dst0shot-nlg0shot-fnctod-llama3-8b-axolotl\"\n",
    "with open(PATH+\".json\") as f:\n",
    "    data = json.load(f)\n",
    "    \n",
    "tmp_keys = list(data.keys())[:800]\n",
    "\n",
    "tmp_data = {}\n",
    "for o in tmp_keys:\n",
    "    tmp_data[o] = data[o]\n",
    "\n",
    "with open(PATH+\"_500_sample.json\",\"w\") as f:\n",
    "    json.dump(tmp_data,f)"
   ]
  },
  {
   "cell_type": "code",
   "execution_count": 200,
   "id": "f3a13928-c265-4a58-8d1b-b5cce7bc8be5",
   "metadata": {},
   "outputs": [
    {
     "name": "stdout",
     "output_type": "stream",
     "text": [
      "100\n"
     ]
    }
   ],
   "source": [
    "import os, json\n",
    "import pandas as pd\n",
    "path_to_json = \"parallel-fnctod-llama3-8b-axolotl-tgi-few-shot\"\n",
    "json_files = [pos_json for pos_json in os.listdir(path_to_json) if pos_json.endswith('.json')]\n",
    "print(len(json_files)) "
   ]
  },
  {
   "cell_type": "markdown",
   "id": "c045be7c-9631-42e6-b088-9b898114562e",
   "metadata": {},
   "source": [
    "## MERGE FILES"
   ]
  },
  {
   "cell_type": "code",
   "execution_count": 201,
   "id": "f4fce00a-a63c-4d1f-8b2e-3f6e6905ecb6",
   "metadata": {},
   "outputs": [],
   "source": [
    "all_data = {}\n",
    "chunk_size = 10\n",
    "prefix = \"-test1000\"\n",
    "\n",
    "file_name = prefix[1:] + json_files[0].split(prefix)[1]\n",
    "for file in json_files:\n",
    "    with open(f\"{path_to_json}/\"+file) as f:\n",
    "        data = json.load(f)\n",
    "        index = int(file.split(prefix)[0])\n",
    "        keys = list(data.keys())[index:index+chunk_size]\n",
    "        for o in keys:\n",
    "            all_data[o] = data[o]\n",
    "        # break\n"
   ]
  },
  {
   "cell_type": "code",
   "execution_count": 202,
   "id": "924c2434-050d-4a6d-9044-fe59b1ecc85b",
   "metadata": {},
   "outputs": [],
   "source": [
    "with open(file_name,\"w\") as f:\n",
    "    json.dump(all_data,f,indent=4)"
   ]
  },
  {
   "cell_type": "code",
   "execution_count": 118,
   "id": "2e55ba8d-6b83-4b5a-89c6-2182f9197d61",
   "metadata": {},
   "outputs": [
    {
     "data": {
      "text/plain": [
       "1000"
      ]
     },
     "execution_count": 118,
     "metadata": {},
     "output_type": "execute_result"
    }
   ],
   "source": [
    "len(all_data.keys())"
   ]
  },
  {
   "cell_type": "code",
   "execution_count": 76,
   "id": "c0455ff6-971f-4e98-85a1-9fc7c64e9329",
   "metadata": {},
   "outputs": [
    {
     "data": {
      "text/plain": [
       "'test100-multiFalse-refFalse-prevTrue-json-dst0shot-nlg0shot-fnctod-llama3-8b-axolotl-tgi.json'"
      ]
     },
     "execution_count": 76,
     "metadata": {},
     "output_type": "execute_result"
    }
   ],
   "source": [
    "file_name"
   ]
  }
 ],
 "metadata": {
  "kernelspec": {
   "display_name": "Python 3 (ipykernel)",
   "language": "python",
   "name": "python3"
  },
  "language_info": {
   "codemirror_mode": {
    "name": "ipython",
    "version": 3
   },
   "file_extension": ".py",
   "mimetype": "text/x-python",
   "name": "python",
   "nbconvert_exporter": "python",
   "pygments_lexer": "ipython3",
   "version": "3.10.14"
  }
 },
 "nbformat": 4,
 "nbformat_minor": 5
}
